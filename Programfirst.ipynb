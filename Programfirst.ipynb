{
 "cells": [
  {
   "cell_type": "code",
   "execution_count": 9,
   "id": "c658cd49-1a05-4eed-bf40-b480744d6515",
   "metadata": {},
   "outputs": [
    {
     "name": "stdout",
     "output_type": "stream",
     "text": [
      "Original numbers:\n",
      "[ 8  9 38  7  5]\n",
      "[11  2 64 11  5]\n",
      "Comparison - greater\n",
      "[False  True False False False]\n",
      "Comparison - greater_equal\n",
      "[False  True False False  True]\n",
      "Comparison - less\n",
      "[ True False  True  True False]\n",
      "Comparison - less_equal\n",
      "[ True False  True  True  True]\n"
     ]
    }
   ],
   "source": [
    "import numpy as np\n",
    "\n",
    "a1 = np.array([8, 9, 38, 7, 5])\n",
    "a2 = np.array([11, 2, 64, 11, 5])\n",
    "print(\"Original numbers:\")\n",
    "print(a1)\n",
    "print(a2)\n",
    "print(\"Comparison - greater\")\n",
    "print(np.greater(a1, a2))\n",
    "print(\"Comparison - greater_equal\")\n",
    "print(np.greater_equal(a1, a2))\n",
    "print(\"Comparison - less\")\n",
    "print(np.less(a1, a2))\n",
    "print(\"Comparison - less_equal\")\n",
    "print(np.less_equal(a1, a2))"
   ]
  },
  {
   "cell_type": "code",
   "execution_count": 15,
   "id": "50c91440-6b6e-45f3-86e9-83fca0abeb6a",
   "metadata": {},
   "outputs": [
    {
     "name": "stdout",
     "output_type": "stream",
     "text": [
      "[30, 32, 34, 36, 38, 40, 42, 44, 46, 48, 50, 52, 54, 56, 58, 60, 62, 64, 66, 68]\n"
     ]
    }
   ],
   "source": [
    "even = [x for x in range(30,70) if x%2 == 0]\n",
    "print(even)"
   ]
  },
  {
   "cell_type": "code",
   "execution_count": 19,
   "id": "f02bf9ba-1b36-43f7-bfcd-9e56e0e78d81",
   "metadata": {},
   "outputs": [
    {
     "name": "stdout",
     "output_type": "stream",
     "text": [
      "[[1 0 0]\n",
      " [0 1 0]\n",
      " [0 0 1]]\n"
     ]
    }
   ],
   "source": [
    "import numpy as np\n",
    "a=np.eye(3,dtype=\"int64\")\n",
    "print(a)"
   ]
  },
  {
   "cell_type": "code",
   "execution_count": 21,
   "id": "aba5609a-5c5a-4ce0-9a62-41ab145a7d25",
   "metadata": {},
   "outputs": [
    {
     "name": "stdout",
     "output_type": "stream",
     "text": [
      "[  0   1   2   3   4   5   6   7   8  -9 -10 -11 -12 -13 -14 -15  16  17\n",
      "  18  19  20]\n"
     ]
    }
   ],
   "source": [
    "import numpy as np\n",
    "v=np.arange(21)\n",
    "v[(v>=9) & (v<=15)]*=-1\n",
    "print(v)"
   ]
  },
  {
   "cell_type": "code",
   "execution_count": 27,
   "id": "71ca62af-8b54-458e-93e7-5418e369ba49",
   "metadata": {},
   "outputs": [
    {
     "name": "stdout",
     "output_type": "stream",
     "text": [
      "[[1 0 0 0 0]\n",
      " [0 2 0 0 0]\n",
      " [0 0 3 0 0]\n",
      " [0 0 0 4 0]\n",
      " [0 0 0 0 5]]\n"
     ]
    }
   ],
   "source": [
    "import numpy as np\n",
    "v=np.eye(5,dtype=\"int64\")\n",
    "np.fill_diagonal(v,[1,2,3,4,5])\n",
    "print(v)"
   ]
  },
  {
   "cell_type": "code",
   "execution_count": 29,
   "id": "74cf527d-dc54-4048-a188-c3823f6e344a",
   "metadata": {},
   "outputs": [
    {
     "name": "stdout",
     "output_type": "stream",
     "text": [
      "Original matrix: \n",
      " [[50 10]\n",
      " [70 80]\n",
      " [30 90]\n",
      " [65 44]]\n",
      "\n",
      "The sum of the matrix is:  439\n",
      "\n",
      "Sum of all the rows:  [[215 224]]\n",
      "\n",
      "Sum of all the columns: \n",
      " [[ 60]\n",
      " [150]\n",
      " [120]\n",
      " [109]]\n"
     ]
    }
   ],
   "source": [
    "import numpy as np\n",
    "a = np.matrix('50 10; 70 80;30 90;65 44')\n",
    "print(\"Original matrix: \\n\", a)\n",
    "print(\"\\nThe sum of the matrix is: \", np.sum(a))\n",
    "sum_of_rows = np.sum(a, axis = 0)\n",
    "print(\"\\nSum of all the rows: \", sum_of_rows)\n",
    "\n",
    "sum_of_cols = np.sum(a, axis = 1)\n",
    "print(\"\\nSum of all the columns: \\n\", sum_of_cols)"
   ]
  },
  {
   "cell_type": "code",
   "execution_count": 21,
   "id": "556a2efa-75db-462d-85ce-6c5931aa3f78",
   "metadata": {},
   "outputs": [
    {
     "name": "stdout",
     "output_type": "stream",
     "text": [
      "Original array:\n",
      "[[ 0  1  2  3]\n",
      " [ 4  5  6  7]\n",
      " [ 8  9 10 11]]\n",
      "After loading, content of the text file:\n",
      " [[ 0  1  2  3]\n",
      " [ 4  5  6  7]\n",
      " [ 8  9 10 11]]\n"
     ]
    }
   ],
   "source": [
    "import numpy as np\n",
    "import os\n",
    "x = np.arange(12).reshape(3, 4)\n",
    "print(\"Original array:\")\n",
    "print(x)\n",
    "file=open(\"textfile.txt\",\"w\")\n",
    "c=str(x)\n",
    "file.write(c)\n",
    "file.close()\n",
    "file=open(\"textfile.txt\",\"r\")\n",
    "print(\"After loading, content of the text file:\\n\",file.read())\n",
    "file.close();"
   ]
  },
  {
   "cell_type": "code",
   "execution_count": 39,
   "id": "54841bde-ff4d-4fb9-8aca-ebce39e89596",
   "metadata": {},
   "outputs": [
    {
     "name": "stdout",
     "output_type": "stream",
     "text": [
      "False\n"
     ]
    }
   ],
   "source": [
    "import numpy as np\n",
    "a1=np.array([33,22,34,54,23])\n",
    "a2=np.array([10,20,30,40,50])\n",
    "print(np.array_equal(a1,a2))"
   ]
  },
  {
   "cell_type": "code",
   "execution_count": 19,
   "id": "1634f778-275e-4dd2-97b4-a69fdaca6c32",
   "metadata": {},
   "outputs": [
    {
     "name": "stdout",
     "output_type": "stream",
     "text": [
      "Original array:\n",
      "[[5 9 1 5]\n",
      " [4 2 0 3]\n",
      " [8 9 4 9]\n",
      " [3 5 4 4]]\n",
      "\n",
      "\n",
      "[[3 5 4 4]\n",
      " [4 2 0 3]\n",
      " [8 9 4 9]\n",
      " [5 9 1 5]]\n"
     ]
    }
   ],
   "source": [
    "import numpy as np\n",
    "random_array=np.random.randint(10,size=(4,4))\n",
    "print(\"Original array:\")\n",
    "print(random_array)\n",
    "print(\"\\n\")\n",
    "random_array[[0,-1],:]=random_array[[-1,0],:]\n",
    "print(random_array)"
   ]
  },
  {
   "cell_type": "code",
   "execution_count": 28,
   "id": "a0648f33-d291-45ca-9c32-c24bbc95374b",
   "metadata": {},
   "outputs": [
    {
     "name": "stdout",
     "output_type": "stream",
     "text": [
      "[8 9 8 7 5]\n",
      "[11 20 10 11  5] \n",
      "\n",
      "[ 88 180  80  77  25]\n"
     ]
    }
   ],
   "source": [
    "import numpy as np\n",
    "a1 = np.array([8, 9, 8, 7, 5])\n",
    "a2 = np.array([11, 20, 10, 11, 5])\n",
    "print(a1)\n",
    "print(a2,\"\\n\")\n",
    "a3=np.multiply(a1,a2)\n",
    "print(a3)"
   ]
  },
  {
   "cell_type": "code",
   "execution_count": null,
   "id": "1f9d6d00-506c-461a-9f19-0bfd63cd977a",
   "metadata": {},
   "outputs": [],
   "source": []
  }
 ],
 "metadata": {
  "kernelspec": {
   "display_name": "Python 3 (ipykernel)",
   "language": "python",
   "name": "python3"
  },
  "language_info": {
   "codemirror_mode": {
    "name": "ipython",
    "version": 3
   },
   "file_extension": ".py",
   "mimetype": "text/x-python",
   "name": "python",
   "nbconvert_exporter": "python",
   "pygments_lexer": "ipython3",
   "version": "3.9.12"
  }
 },
 "nbformat": 4,
 "nbformat_minor": 5
}
