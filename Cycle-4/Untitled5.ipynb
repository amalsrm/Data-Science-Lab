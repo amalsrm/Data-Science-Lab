{
 "cells": [
  {
   "cell_type": "code",
   "execution_count": 2,
   "id": "f5ab0e85",
   "metadata": {},
   "outputs": [
    {
     "name": "stdout",
     "output_type": "stream",
     "text": [
      "0     5\n",
      "1    10\n",
      "2    15\n",
      "3    12\n",
      "4    41\n",
      "dtype: int64\n"
     ]
    }
   ],
   "source": [
    "import pandas as pd\n",
    "given_list = [5, 10, 15, 12, 41]\n",
    "\n",
    "series = pd.Series(given_list)\n",
    "\n",
    "print(series)"
   ]
  },
  {
   "cell_type": "code",
   "execution_count": 18,
   "id": "4e879174",
   "metadata": {},
   "outputs": [
    {
     "name": "stdout",
     "output_type": "stream",
     "text": [
      "DatetimeIndex(['2021-05-01', '2021-05-02', '2021-05-03', '2021-05-04',\n",
      "               '2021-05-05', '2021-05-06', '2021-05-07', '2021-05-08',\n",
      "               '2021-05-09', '2021-05-10', '2021-05-11', '2021-05-12'],\n",
      "              dtype='datetime64[ns]', freq='D')\n"
     ]
    }
   ],
   "source": [
    "\n",
    "\n",
    "date_series = pd.date_range(start = '05-01-2021', end = '05-12-2021')\n",
    "\n",
    "print(date_series)\n",
    "\n"
   ]
  },
  {
   "cell_type": "code",
   "execution_count": 17,
   "id": "a0e2fe75",
   "metadata": {},
   "outputs": [
    {
     "name": "stdout",
     "output_type": "stream",
     "text": [
      "   age   name          occ\n",
      "0   22   Amal    Scientist\n",
      "1   29   Arun        Actor\n",
      "2   25  Akhil  CEO(Google)\n"
     ]
    }
   ],
   "source": [
    "dictionary = {'name': ['Amal', 'Arun','Akhil'],\n",
    "              'age' : [22, 29, 25],\n",
    "              'occ' : ['Scientist', 'Actor', 'CEO(Google)']}\n",
    "\n",
    "dataframe = pd.DataFrame(dictionary)\n",
    "\n",
    "print(dataframe)\n"
   ]
  },
  {
   "cell_type": "code",
   "execution_count": 16,
   "id": "bd20beb8",
   "metadata": {},
   "outputs": [
    {
     "name": "stdout",
     "output_type": "stream",
     "text": [
      "   id   name  age\n",
      "0   2  Sanal   22\n",
      "1   1  Rohit   25\n",
      "2   1  Athma   24\n"
     ]
    }
   ],
   "source": [
    "lists = [[2, 'Sanal', 22],\n",
    "         [1, 'Rohit', 25],\n",
    "         [1, 'Athma', 24]]\n",
    "\n",
    "dataframe = pd.DataFrame(lists, columns = ['id', 'name', 'age'])\n",
    "\n",
    "print(dataframe)"
   ]
  },
  {
   "cell_type": "code",
   "execution_count": 15,
   "id": "12826561",
   "metadata": {},
   "outputs": [
    {
     "name": "stdout",
     "output_type": "stream",
     "text": [
      "   id      name  age  occupation      salary\n",
      "0   1  ABhijith   22    engineer     20000.0\n",
      "1   3      John   24  accountant         NaN\n",
      "2   2    AChuth   25      doctor    120000.0\n",
      "3   4    Akshay   23      Crypto  12000000.0\n",
      "4   5      Arun   24   Developer         NaN\n"
     ]
    }
   ],
   "source": [
    "dataframe = pd.read_csv('data.csv')\n",
    "\n",
    "print(dataframe)"
   ]
  },
  {
   "cell_type": "code",
   "execution_count": 14,
   "id": "17018760",
   "metadata": {},
   "outputs": [
    {
     "name": "stdout",
     "output_type": "stream",
     "text": [
      "   id      name  age  occupation      salary\n",
      "0   1  ABhijith   22    engineer     20000.0\n",
      "1   3      John   24  accountant         NaN\n",
      "2   2    AChuth   25      doctor    120000.0\n",
      "3   4    Akshay   23      Crypto  12000000.0\n",
      "4   5      Arun   24   Developer         NaN\n",
      "\n",
      "        name  age  occupation      salary\n",
      "id                                       \n",
      "1   ABhijith   22    engineer     20000.0\n",
      "3       John   24  accountant         NaN\n",
      "2     AChuth   25      doctor    120000.0\n",
      "4     Akshay   23      Crypto  12000000.0\n",
      "5       Arun   24   Developer         NaN\n"
     ]
    }
   ],
   "source": [
    "print(dataframe)\n",
    "\n",
    "print()\n",
    "\n",
    "dataframe_customindex = dataframe.set_index('id')\n",
    "\n",
    "print(dataframe_customindex)"
   ]
  },
  {
   "cell_type": "code",
   "execution_count": 13,
   "id": "2aa61467",
   "metadata": {},
   "outputs": [
    {
     "name": "stdout",
     "output_type": "stream",
     "text": [
      "   id      name  age  occupation      salary\n",
      "0   1  ABhijith   22    engineer     20000.0\n",
      "1   3      John   24  accountant         NaN\n",
      "2   2    AChuth   25      doctor    120000.0\n",
      "3   4    Akshay   23      Crypto  12000000.0\n",
      "4   5      Arun   24   Developer         NaN\n",
      "\n",
      "   id      name  age  occupation      salary\n",
      "0   1  ABhijith   22    engineer     20000.0\n",
      "2   2    AChuth   25      doctor    120000.0\n",
      "1   3      John   24  accountant         NaN\n",
      "3   4    Akshay   23      Crypto  12000000.0\n",
      "4   5      Arun   24   Developer         NaN\n"
     ]
    }
   ],
   "source": [
    "\n",
    "print(dataframe)\n",
    "\n",
    "print()\n",
    "\n",
    "dataframe_sorted = dataframe.sort_values(by = ['id', 'age'])\n",
    "\n",
    "print(dataframe_sorted)"
   ]
  },
  {
   "cell_type": "code",
   "execution_count": 12,
   "id": "af2c5909",
   "metadata": {},
   "outputs": [
    {
     "name": "stdout",
     "output_type": "stream",
     "text": [
      "   id      name  age  occupation      salary\n",
      "0   1  ABhijith   22    engineer     20000.0\n",
      "1   3      John   24  accountant         NaN\n",
      "2   2    AChuth   25      doctor    120000.0\n",
      "3   4    Akshay   23      Crypto  12000000.0\n",
      "4   5      Arun   24   Developer         NaN\n",
      "\n",
      "   id      name  age  occupation   salary\n",
      "0   1  ABhijith   22    engineer  20000.0\n",
      "1   3      John   24  accountant      NaN\n"
     ]
    }
   ],
   "source": [
    "print(dataframe)\n",
    "\n",
    "print()\n",
    "\n",
    "o = dataframe.iloc[[0,1], :]\n",
    "\n",
    "print(o)"
   ]
  },
  {
   "cell_type": "code",
   "execution_count": 11,
   "id": "cdbb1992",
   "metadata": {},
   "outputs": [
    {
     "name": "stdout",
     "output_type": "stream",
     "text": [
      "   id      name  age  occupation      salary\n",
      "0   1  ABhijith   22    engineer     20000.0\n",
      "1   3      John   24  accountant         NaN\n",
      "2   2    AChuth   25      doctor    120000.0\n",
      "3   4    Akshay   23      Crypto  12000000.0\n",
      "4   5      Arun   24   Developer         NaN\n",
      "\n",
      "occupation\n",
      "Crypto        12000000.0\n",
      "Developer            NaN\n",
      "accountant           NaN\n",
      "doctor          120000.0\n",
      "engineer         20000.0\n",
      "Name: salary, dtype: float64\n"
     ]
    }
   ],
   "source": [
    "print(dataframe)\n",
    "\n",
    "print()\n",
    "\n",
    "occ_average_age = dataframe.groupby('occupation')['salary'].mean()\n",
    "print(occ_average_age)"
   ]
  },
  {
   "cell_type": "code",
   "execution_count": 40,
   "id": "0b93e260",
   "metadata": {},
   "outputs": [
    {
     "name": "stdout",
     "output_type": "stream",
     "text": [
      "      eid   ename  stipend     eid         position\n",
      "0  0    1   Rohit    23000  0    1         employee\n",
      "1  1    2   Varun    12000  1    2         employee\n",
      "2  2    3   Domnic    3000  2    3           intern\n",
      "3  3    4   Harsh    25000  3    4  senior_employee\n",
      "\n",
      "      eid   ename  stipend     eid         position\n",
      "0  0    1   Rohit    23000  0    1         employee\n",
      "1  1    2   Varun    12000  1    2         employee\n",
      "2  2    3   Domnic    3000  2    3           intern\n",
      "3  3    4   Harsh    25000  3    4  senior_employee\n"
     ]
    }
   ],
   "source": [
    "print(dataframe) \n",
    "\n",
    "print()\n",
    "\n",
    "dataframe_nullfill = dataframe.fillna(0)\n",
    "\n",
    "print(dataframe_nullfill)"
   ]
  },
  {
   "cell_type": "code",
   "execution_count": 22,
   "id": "9f8b156f",
   "metadata": {},
   "outputs": [
    {
     "name": "stdout",
     "output_type": "stream",
     "text": [
      "                  cname  profit\n",
      "0            Amul Milks   90000\n",
      "1                KD&Co.   10000\n",
      "2  National Electronics   -5000\n",
      "3      Bharath Medicals   85000\n",
      "4          Akhil Stores  -90000\n",
      "\n",
      "                  cname  profit\n",
      "0            Amul Milks    True\n",
      "1                KD&Co.    True\n",
      "2  National Electronics   False\n",
      "3      Bharath Medicals    True\n",
      "4          Akhil Stores   False\n"
     ]
    }
   ],
   "source": [
    "c_data = pd.read_csv('company.csv')\n",
    "\n",
    "print(c_data)\n",
    "\n",
    "print()\n",
    "\n",
    "c_data['profit'] = c_data['profit'].apply(lambda x:x>0)\n",
    "\n",
    "print(c_data)"
   ]
  },
  {
   "cell_type": "code",
   "execution_count": 42,
   "id": "68484e65",
   "metadata": {},
   "outputs": [
    {
     "name": "stdout",
     "output_type": "stream",
     "text": [
      "   eid   ename  stipend\n",
      "0    1   Rohit    23000\n",
      "1    2   Varun    12000\n",
      "2    3  Domnic     3000\n",
      "3    4   Harsh    25000\n",
      "\n",
      "   eid         position\n",
      "0    1         employee\n",
      "1    2         employee\n",
      "2    3           intern\n",
      "3    4  senior_employee\n",
      "\n"
     ]
    },
    {
     "data": {
      "text/html": [
       "<div>\n",
       "<style scoped>\n",
       "    .dataframe tbody tr th:only-of-type {\n",
       "        vertical-align: middle;\n",
       "    }\n",
       "\n",
       "    .dataframe tbody tr th {\n",
       "        vertical-align: top;\n",
       "    }\n",
       "\n",
       "    .dataframe thead th {\n",
       "        text-align: right;\n",
       "    }\n",
       "</style>\n",
       "<table border=\"1\" class=\"dataframe\">\n",
       "  <thead>\n",
       "    <tr style=\"text-align: right;\">\n",
       "      <th></th>\n",
       "      <th>eid</th>\n",
       "      <th>ename</th>\n",
       "      <th>stipend</th>\n",
       "      <th>position</th>\n",
       "    </tr>\n",
       "  </thead>\n",
       "  <tbody>\n",
       "    <tr>\n",
       "      <th>0</th>\n",
       "      <td>1</td>\n",
       "      <td>Rohit</td>\n",
       "      <td>23000</td>\n",
       "      <td>employee</td>\n",
       "    </tr>\n",
       "    <tr>\n",
       "      <th>1</th>\n",
       "      <td>2</td>\n",
       "      <td>Varun</td>\n",
       "      <td>12000</td>\n",
       "      <td>employee</td>\n",
       "    </tr>\n",
       "    <tr>\n",
       "      <th>2</th>\n",
       "      <td>3</td>\n",
       "      <td>Domnic</td>\n",
       "      <td>3000</td>\n",
       "      <td>intern</td>\n",
       "    </tr>\n",
       "    <tr>\n",
       "      <th>3</th>\n",
       "      <td>4</td>\n",
       "      <td>Harsh</td>\n",
       "      <td>25000</td>\n",
       "      <td>senior_employee</td>\n",
       "    </tr>\n",
       "  </tbody>\n",
       "</table>\n",
       "</div>"
      ],
      "text/plain": [
       "   eid   ename  stipend         position\n",
       "0    1   Rohit    23000         employee\n",
       "1    2   Varun    12000         employee\n",
       "2    3  Domnic     3000           intern\n",
       "3    4   Harsh    25000  senior_employee"
      ]
     },
     "execution_count": 42,
     "metadata": {},
     "output_type": "execute_result"
    }
   ],
   "source": [
    "empdata = pd.read_csv('employee.csv')\n",
    "companydata = pd.read_csv('companydata.csv')\n",
    "\n",
    "print(empdata)\n",
    "\n",
    "print()\n",
    "\n",
    "print(companydata)\n",
    "print()\n",
    "\n",
    "df = pd.merge(empdata, companydata, how ='inner',on='eid')\n",
    "df"
   ]
  },
  {
   "cell_type": "code",
   "execution_count": null,
   "id": "d4ef52fe",
   "metadata": {},
   "outputs": [],
   "source": []
  },
  {
   "cell_type": "code",
   "execution_count": null,
   "id": "9ebad45c",
   "metadata": {},
   "outputs": [],
   "source": []
  }
 ],
 "metadata": {
  "kernelspec": {
   "display_name": "Python 3",
   "language": "python",
   "name": "python3"
  },
  "language_info": {
   "codemirror_mode": {
    "name": "ipython",
    "version": 3
   },
   "file_extension": ".py",
   "mimetype": "text/x-python",
   "name": "python",
   "nbconvert_exporter": "python",
   "pygments_lexer": "ipython3",
   "version": "3.5.6"
  }
 },
 "nbformat": 4,
 "nbformat_minor": 5
}
