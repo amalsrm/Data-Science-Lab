import numpy as np
a = np.matrix('50 10; 70 80;30 90;65 44')
print("Original matrix: \n", a)
print("\nThe sum of the matrix is: ", np.sum(a))
sum_of_rows = np.sum(a, axis = 0)
print("\nSum of all the rows: ", sum_of_rows)

sum_of_cols = np.sum(a, axis = 1)
print("\nSum of all the columns: \n", sum_of_cols)
